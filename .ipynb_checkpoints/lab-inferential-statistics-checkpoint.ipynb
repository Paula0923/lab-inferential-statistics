{
 "cells": [
  {
   "cell_type": "code",
   "execution_count": 1,
   "id": "8d6d6a77-5720-4efe-9640-833c472b9498",
   "metadata": {},
   "outputs": [],
   "source": [
    "# Libraries\n",
    "import numpy as np\n",
    "import scipy.stats as stats"
   ]
  },
  {
   "cell_type": "markdown",
   "id": "95f06c41-b622-4e98-b308-a224ad049be7",
   "metadata": {},
   "source": [
    "### Null and Alternative Hypothesis"
   ]
  },
  {
   "cell_type": "code",
   "execution_count": 3,
   "id": "11e14af6-eda8-47d6-a64c-f88e4e765820",
   "metadata": {},
   "outputs": [
    {
     "name": "stdout",
     "output_type": "stream",
     "text": [
      "Null Hypothesis (H₀): The mean systolic blood pressure is equal 120 mm Hg\n",
      "Alternate Hypothesis (H₁): The mean systolic blood pressure is not equal 120 mm Hg\n"
     ]
    }
   ],
   "source": [
    "# Hypotheses\n",
    "null_hypothesis = \"The mean systolic blood pressure is equal 120 mm Hg\"  # H₀\n",
    "alt_hypothesis = \"The mean systolic blood pressure is not equal 120 mm Hg\"  # H₁\n",
    "\n",
    "print(f\"Null Hypothesis (H₀): {null_hypothesis}\")\n",
    "print(f\"Alternate Hypothesis (H₁): {alt_hypothesis}\")"
   ]
  },
  {
   "cell_type": "markdown",
   "id": "11a9e100-3c0c-40de-91a5-722054ec3178",
   "metadata": {},
   "source": [
    "### Level of Significance"
   ]
  },
  {
   "cell_type": "code",
   "execution_count": 5,
   "id": "44cb9afd-ead3-4d8d-92f1-0d8f616e9a6e",
   "metadata": {},
   "outputs": [
    {
     "name": "stdout",
     "output_type": "stream",
     "text": [
      "Level of Significance (α): 0.05\n"
     ]
    }
   ],
   "source": [
    "alpha = 0.05  # 5% significance level\n",
    "print(f\"Level of Significance (α): {alpha}\")"
   ]
  },
  {
   "cell_type": "markdown",
   "id": "143ab49c-9d71-4b9b-b3b9-36aab07581c8",
   "metadata": {},
   "source": [
    "### Calculate Test Statistic"
   ]
  },
  {
   "cell_type": "code",
   "execution_count": 7,
   "id": "b4f97175-6c62-427f-9ecf-70993534057f",
   "metadata": {},
   "outputs": [
    {
     "name": "stdout",
     "output_type": "stream",
     "text": [
      "Test Statistic (t): 4.76190\n"
     ]
    }
   ],
   "source": [
    "# Sample data from Honolulu Heart Study\n",
    "sample_mean = 130.1\n",
    "pop_mean = 120\n",
    "sample_std = 21.21\n",
    "n = 100\n",
    "\n",
    "# Calculate the test statistic (t-score)\n",
    "t_stat = (sample_mean - pop_mean) / (sample_std / np.sqrt(n))\n",
    "print(f\"Test Statistic (t): {t_stat:.5f}\")"
   ]
  },
  {
   "cell_type": "markdown",
   "id": "6f72f058-c65a-4b81-a9fc-a4facf57c1c2",
   "metadata": {},
   "source": [
    "### Calculate the P-value"
   ]
  },
  {
   "cell_type": "code",
   "execution_count": 9,
   "id": "6652dc18-1cab-4e3d-b52d-978a3ad6a07b",
   "metadata": {},
   "outputs": [
    {
     "name": "stdout",
     "output_type": "stream",
     "text": [
      "P-Value: 0.00000656\n"
     ]
    }
   ],
   "source": [
    "# Determine p-Value for Two-Tailed Test\n",
    "p_value = stats.t.sf(np.abs(t_stat), df=n-1) * 2  # Multiply by 2 for a two-tailed test\n",
    "print(f\"P-Value: {p_value:.8f}\")"
   ]
  },
  {
   "cell_type": "code",
   "execution_count": 11,
   "id": "4978f68e-5210-4d2f-88bb-5f32a00c8830",
   "metadata": {},
   "outputs": [
    {
     "name": "stdout",
     "output_type": "stream",
     "text": [
      "Reject the Null Hypothesis: There is evidence to say the average blood pressure is different from 120 mm Hg.\n"
     ]
    }
   ],
   "source": [
    "# Decision-Making\n",
    "if p_value > alpha:\n",
    "    print(\"Fail to Reject the Null Hypothesis: Not enough evidence to say the average blood pressure is different from 120 mm Hg.\")\n",
    "else:\n",
    "    print(\"Reject the Null Hypothesis: There is evidence to say the average blood pressure is different from 120 mm Hg.\")"
   ]
  }
 ],
 "metadata": {
  "kernelspec": {
   "display_name": "Python 3 (ipykernel)",
   "language": "python",
   "name": "python3"
  },
  "language_info": {
   "codemirror_mode": {
    "name": "ipython",
    "version": 3
   },
   "file_extension": ".py",
   "mimetype": "text/x-python",
   "name": "python",
   "nbconvert_exporter": "python",
   "pygments_lexer": "ipython3",
   "version": "3.11.7"
  }
 },
 "nbformat": 4,
 "nbformat_minor": 5
}
